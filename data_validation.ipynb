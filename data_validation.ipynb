{
 "cells": [
  {
   "cell_type": "markdown",
   "id": "25e6fc03",
   "metadata": {},
   "source": [
    "# **General Expectation**"
   ]
  },
  {
   "cell_type": "markdown",
   "id": "5d493adf",
   "metadata": {},
   "source": [
    "===========================================================================================================\n",
    "\n",
    "Milestone 3\n",
    "\n",
    "Name  : Bagus Rifky Riyanto\n",
    "\n",
    "Batch : FTDS-027-HCK\n",
    "\n",
    "This program is created for automation for ETL process. This dataset is about banking customer churn rate.\n",
    "\n",
    "\n",
    "==========================================================================================================="
   ]
  },
  {
   "cell_type": "markdown",
   "id": "8f5faeb1",
   "metadata": {},
   "source": [
    "## I. Import Libraries"
   ]
  },
  {
   "cell_type": "code",
   "execution_count": 23,
   "id": "069f85ce",
   "metadata": {},
   "outputs": [],
   "source": [
    "# import libraries\n",
    "import pandas as pd\n",
    "import numpy as np\n",
    "import great_expectations as gx\n",
    "from great_expectations.data_context import FileDataContext"
   ]
  },
  {
   "cell_type": "markdown",
   "id": "80b5b7cc",
   "metadata": {},
   "source": [
    "Libraries explanations:\n",
    "\n",
    "- Pandas and Numpy are use to create and manipulating table.\n",
    "- Great Expectation are use to validating dataset."
   ]
  },
  {
   "cell_type": "markdown",
   "id": "4da19aff",
   "metadata": {},
   "source": [
    "## II. Process"
   ]
  },
  {
   "cell_type": "markdown",
   "id": "224fdb2b",
   "metadata": {},
   "source": [
    "### II.1. Create Data Context, Data Source, and Data Asset"
   ]
  },
  {
   "cell_type": "code",
   "execution_count": 24,
   "id": "9b594982",
   "metadata": {},
   "outputs": [],
   "source": [
    "# load data\n",
    "df = pd.read_csv('P2M3_bagus_rifky_data_clean.csv')"
   ]
  },
  {
   "cell_type": "code",
   "execution_count": 25,
   "id": "8260acbc",
   "metadata": {},
   "outputs": [],
   "source": [
    "# create context\n",
    "context = gx.get_context()\n",
    "\n",
    "# add data source to the data context\n",
    "source_name = \"source-churn\"\n",
    "data_source = context.data_sources.add_pandas(name=source_name)\n",
    "\n",
    "# add data asset to the data source\n",
    "asset_name = \"asset-churn\"\n",
    "data_asset = data_source.add_dataframe_asset(name=asset_name)\n",
    "\n",
    "# add batch to the data asset\n",
    "batch_definition_name = \"batch-churn\"\n",
    "batch_definition = data_asset.add_batch_definition_whole_dataframe(\n",
    "    batch_definition_name\n",
    ")\n",
    "\n",
    "# create batch parameter\n",
    "batch_parameters = {\"dataframe\": df}"
   ]
  },
  {
   "cell_type": "code",
   "execution_count": 26,
   "id": "29977e90",
   "metadata": {},
   "outputs": [],
   "source": [
    "# retrieve dataframe batch definition\n",
    "source_name = \"source-churn\"\n",
    "asset_name = \"asset-churn\"\n",
    "batch_definition_name = \"batch-churn\"\n",
    "batch_definition = (\n",
    "    context.data_sources.get(source_name)\n",
    "    .get_asset(asset_name)\n",
    "    .get_batch_definition(batch_definition_name)\n",
    ")"
   ]
  },
  {
   "cell_type": "markdown",
   "id": "603fdfc2",
   "metadata": {},
   "source": [
    "Explanation:\n",
    "\n",
    "We have created data context, data source, data asset, and batch. Data context are used for accessing API to use all GX features for data validation. Data source are used for accessing data asset based on specific source that were created. Data asset filled with all of our tables that we assign on specific data source. All data source and data asset names must be unique."
   ]
  },
  {
   "cell_type": "markdown",
   "id": "6205ef5c",
   "metadata": {},
   "source": [
    "### II.2. Expectation"
   ]
  },
  {
   "cell_type": "markdown",
   "id": "23a8d886",
   "metadata": {},
   "source": [
    "#### A. Validate Table Column Count"
   ]
  },
  {
   "cell_type": "code",
   "execution_count": 27,
   "id": "524cf299",
   "metadata": {},
   "outputs": [
    {
     "name": "stderr",
     "output_type": "stream",
     "text": [
      "Calculating Metrics: 100%|██████████| 3/3 [00:00<00:00, 374.85it/s]"
     ]
    },
    {
     "name": "stdout",
     "output_type": "stream",
     "text": [
      "\n",
      "Table column count equal to 17: True\n"
     ]
    },
    {
     "name": "stderr",
     "output_type": "stream",
     "text": [
      "\n"
     ]
    }
   ],
   "source": [
    "# create expectation for column count equal to 17\n",
    "expectation = gx.expectations.ExpectTableColumnCountToEqual(\n",
    "    value = 17\n",
    ")\n",
    "\n",
    "# get dataframe as batch\n",
    "batch = batch_definition.get_batch(batch_parameters=batch_parameters)\n",
    "\n",
    "# test expectation\n",
    "validation_results = batch.validate(expectation)\n",
    "print('')\n",
    "print(f\"Table column count equal to 17: {validation_results.success}\")"
   ]
  },
  {
   "cell_type": "markdown",
   "id": "18a374e5",
   "metadata": {},
   "source": [
    "Explanation:\n",
    "\n",
    "Based on the validation process above, total of column in our table is 17."
   ]
  },
  {
   "cell_type": "markdown",
   "id": "002e0cbe",
   "metadata": {},
   "source": [
    "#### B. Validate Age Column Values"
   ]
  },
  {
   "cell_type": "code",
   "execution_count": 28,
   "id": "3b2446fd",
   "metadata": {},
   "outputs": [
    {
     "name": "stderr",
     "output_type": "stream",
     "text": [
      "Calculating Metrics: 100%|██████████| 10/10 [00:00<00:00, 394.11it/s]"
     ]
    },
    {
     "name": "stdout",
     "output_type": "stream",
     "text": [
      "\n",
      "Age column values between 18 years old to 100 age years old: True\n"
     ]
    },
    {
     "name": "stderr",
     "output_type": "stream",
     "text": [
      "\n"
     ]
    }
   ],
   "source": [
    "# create expectation for column values to be in between min and max value\n",
    "expectation = gx.expectations.ExpectColumnValuesToBeBetween(\n",
    "    column=\"age\", min_value = 18, max_value = 100\n",
    ")\n",
    "\n",
    "# get dataframe as batch\n",
    "batch = batch_definition.get_batch(batch_parameters=batch_parameters)\n",
    "\n",
    "# test expectation\n",
    "validation_results = batch.validate(expectation)\n",
    "print('')\n",
    "print(f\"Age column values between 18 years old to 100 age years old: {validation_results.success}\")\n"
   ]
  },
  {
   "cell_type": "markdown",
   "id": "c12ddaa0",
   "metadata": {},
   "source": [
    "Explanation:\n",
    "\n",
    "Based on the validation process above, All values in the age column are between 18 to 100 years old. The reason we set the minimal age as 18 and the maximum age as 100 for the validation process is because a range between 18 to 100 years old is a reasonable age for bank customers."
   ]
  },
  {
   "cell_type": "markdown",
   "id": "408b7ef0",
   "metadata": {},
   "source": [
    "#### C. Validate customer_id Column Is Exist"
   ]
  },
  {
   "cell_type": "code",
   "execution_count": 29,
   "id": "e8348a9e",
   "metadata": {},
   "outputs": [
    {
     "name": "stderr",
     "output_type": "stream",
     "text": [
      "Calculating Metrics: 100%|██████████| 2/2 [00:00<00:00, 244.97it/s]"
     ]
    },
    {
     "name": "stdout",
     "output_type": "stream",
     "text": [
      "\n",
      "customer_id column to be exist in data: True\n"
     ]
    },
    {
     "name": "stderr",
     "output_type": "stream",
     "text": [
      "\n"
     ]
    }
   ],
   "source": [
    "# create expectation for column to be exist\n",
    "expectation = gx.expectations.ExpectColumnToExist(\n",
    "    column = \"customer_id\"\n",
    ")\n",
    "\n",
    "# get dataframe as batch\n",
    "batch = batch_definition.get_batch(batch_parameters=batch_parameters)\n",
    "\n",
    "# test expectation\n",
    "validation_results = batch.validate(expectation)\n",
    "print('')\n",
    "print(f\"customer_id column to be exist in data: {validation_results.success}\")"
   ]
  },
  {
   "cell_type": "markdown",
   "id": "8eecfca3",
   "metadata": {},
   "source": [
    "Explanation:\n",
    "\n",
    "Based on the validation process above, customer_id column is exist on the table."
   ]
  },
  {
   "cell_type": "markdown",
   "id": "a5c34099",
   "metadata": {},
   "source": [
    "#### D. Validate customer_id Column Values Is Unique"
   ]
  },
  {
   "cell_type": "code",
   "execution_count": 30,
   "id": "2928ee30",
   "metadata": {},
   "outputs": [
    {
     "name": "stderr",
     "output_type": "stream",
     "text": [
      "Calculating Metrics: 100%|██████████| 10/10 [00:00<00:00, 287.94it/s]"
     ]
    },
    {
     "name": "stdout",
     "output_type": "stream",
     "text": [
      "\n",
      "customer_id column values to be unique: True\n"
     ]
    },
    {
     "name": "stderr",
     "output_type": "stream",
     "text": [
      "\n"
     ]
    }
   ],
   "source": [
    "# create expectation for column values to be unique\n",
    "expectation = gx.expectations.ExpectColumnValuesToBeUnique(\n",
    "    column=\"customer_id\"\n",
    ")\n",
    "\n",
    "# get dataframe as batch\n",
    "batch = batch_definition.get_batch(batch_parameters=batch_parameters)\n",
    "\n",
    "# test expectation\n",
    "validation_results = batch.validate(expectation)\n",
    "print('')\n",
    "print(f\"customer_id column values to be unique: {validation_results.success}\")"
   ]
  },
  {
   "cell_type": "markdown",
   "id": "e5fff2c3",
   "metadata": {},
   "source": [
    "Explanation:\n",
    "\n",
    "Based on the validation process above, all of the values in customer_id are unique. customer_id values need to be unique because we don't want duplicate values on customer_id column."
   ]
  },
  {
   "cell_type": "markdown",
   "id": "18018838",
   "metadata": {},
   "source": [
    "#### E. Validate complain Column Values Is Either Not Complain or Complain"
   ]
  },
  {
   "cell_type": "code",
   "execution_count": 31,
   "id": "f2a6a693",
   "metadata": {},
   "outputs": [
    {
     "name": "stderr",
     "output_type": "stream",
     "text": [
      "Calculating Metrics:  30%|███       | 3/10 [00:00<?, ?it/s]c:\\Users\\Asus\\anaconda3\\envs\\m3_env\\lib\\site-packages\\pandas\\core\\algorithms.py:522: DeprecationWarning: np.find_common_type is deprecated.  Please use `np.result_type` or `np.promote_types`.\n",
      "See https://numpy.org/devdocs/release/1.25.0-notes.html and the docs for more information.  (Deprecated NumPy 1.25)\n",
      "  common = np.find_common_type([values.dtype, comps_array.dtype], [])\n",
      "Calculating Metrics: 100%|██████████| 10/10 [00:00<00:00, 655.86it/s]"
     ]
    },
    {
     "name": "stdout",
     "output_type": "stream",
     "text": [
      "\n",
      "complain column values to be either Not Complain or Complain: True\n"
     ]
    },
    {
     "name": "stderr",
     "output_type": "stream",
     "text": [
      "\n"
     ]
    }
   ],
   "source": [
    "# create expectation for column to be in set\n",
    "expectation = gx.expectations.ExpectColumnValuesToBeInSet(\n",
    "    column = \"complain\", value_set = ['Not Complain', 'Complain'], mostly = 1\n",
    ")\n",
    "\n",
    "# get dataframe as batch\n",
    "batch = batch_definition.get_batch(batch_parameters=batch_parameters)\n",
    "\n",
    "# test expectation\n",
    "validation_results = batch.validate(expectation)\n",
    "print('')\n",
    "print(f\"complain column values to be either Not Complain or Complain: {validation_results.success}\")"
   ]
  },
  {
   "cell_type": "markdown",
   "id": "b2843d1a",
   "metadata": {},
   "source": [
    "Explanation:\n",
    "\n",
    "Based on the validation process above, All of the complain column values are either 'Not Complain' or 'Complain'. It is important to validate because complain column values indicate whether customers are once complaining or not."
   ]
  },
  {
   "cell_type": "markdown",
   "id": "4709186b",
   "metadata": {},
   "source": [
    "#### F. Validate num_of_products Column Values Is Integer"
   ]
  },
  {
   "cell_type": "code",
   "execution_count": 32,
   "id": "e3fadb3c",
   "metadata": {},
   "outputs": [
    {
     "name": "stderr",
     "output_type": "stream",
     "text": [
      "Calculating Metrics: 100%|██████████| 1/1 [00:00<00:00, 92.75it/s]\n"
     ]
    },
    {
     "name": "stdout",
     "output_type": "stream",
     "text": [
      "\n",
      "num_of_products column to be integer type: True\n"
     ]
    }
   ],
   "source": [
    "# create expectation for column values to be in type list\n",
    "expectation = gx.expectations.ExpectColumnValuesToBeInTypeList(\n",
    "    column = \"num_of_products\", type_list = ['int64']\n",
    ")\n",
    "\n",
    "# get dataframe as batch\n",
    "batch = batch_definition.get_batch(batch_parameters=batch_parameters)\n",
    "\n",
    "# test expectation\n",
    "validation_results = batch.validate(expectation)\n",
    "print('')\n",
    "print(f\"num_of_products column to be integer type: {validation_results.success}\")"
   ]
  },
  {
   "cell_type": "markdown",
   "id": "e1e7d603",
   "metadata": {},
   "source": [
    "Explanation:\n",
    "\n",
    "Based on the validation process above, the data type of the num_of_product column is integer. We need to make sure that the number of products that the customer has bought when using a credit card are not float, because there's no total value in float."
   ]
  },
  {
   "cell_type": "markdown",
   "id": "a807d0c2",
   "metadata": {},
   "source": [
    "#### G. Validate All exited Column Values Is Not Missing"
   ]
  },
  {
   "cell_type": "code",
   "execution_count": 33,
   "id": "4974217d",
   "metadata": {},
   "outputs": [
    {
     "name": "stderr",
     "output_type": "stream",
     "text": [
      "Calculating Metrics: 100%|██████████| 8/8 [00:00<00:00, 980.95it/s]"
     ]
    },
    {
     "name": "stdout",
     "output_type": "stream",
     "text": [
      "\n",
      "exited column without missing values: True\n"
     ]
    },
    {
     "name": "stderr",
     "output_type": "stream",
     "text": [
      "\n"
     ]
    }
   ],
   "source": [
    "# create expectation for column values to be not null\n",
    "expectation = gx.expectations.ExpectColumnValuesToNotBeNull(\n",
    "    column = \"exited\"\n",
    ")\n",
    "\n",
    "# get dataframe as batch\n",
    "batch = batch_definition.get_batch(batch_parameters=batch_parameters)\n",
    "\n",
    "# test expectation\n",
    "validation_results = batch.validate(expectation)\n",
    "print('')\n",
    "print(f\"exited column without missing values: {validation_results.success}\")"
   ]
  },
  {
   "cell_type": "markdown",
   "id": "57e5671e",
   "metadata": {},
   "source": [
    "Explanation:\n",
    "\n",
    "Based on the validation process above, all of the values in the exited column are not missing. It is important to check whether exited column values to not missing because it indicates the customers still use our financial products or not. The objective of our analysis is about customer churn rate, so it is important to check this column."
   ]
  }
 ],
 "metadata": {
  "kernelspec": {
   "display_name": "m3_env",
   "language": "python",
   "name": "python3"
  },
  "language_info": {
   "codemirror_mode": {
    "name": "ipython",
    "version": 3
   },
   "file_extension": ".py",
   "mimetype": "text/x-python",
   "name": "python",
   "nbconvert_exporter": "python",
   "pygments_lexer": "ipython3",
   "version": "3.10.0"
  }
 },
 "nbformat": 4,
 "nbformat_minor": 5
}
